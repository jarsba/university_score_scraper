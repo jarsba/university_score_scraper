{
 "cells": [
  {
   "cell_type": "code",
   "execution_count": 59,
   "metadata": {},
   "outputs": [],
   "source": [
    "import pandas as pd\n",
    "from thefuzz import process\n",
    "import matplotlib.pyplot as plt\n",
    "import numpy as np"
   ]
  },
  {
   "cell_type": "code",
   "execution_count": 3,
   "metadata": {},
   "outputs": [],
   "source": [
    "similarity_threshold = 90"
   ]
  },
  {
   "cell_type": "code",
   "execution_count": 30,
   "metadata": {},
   "outputs": [],
   "source": [
    "all_scores = pd.read_csv(\"university_scores.csv\")\n",
    "times_scores = pd.read_csv(\"times_university_scores.csv\")\n",
    "CWUR_scores = pd.read_csv(\"CWUR_university_scores.csv\")\n",
    "QS_scores = pd.read_csv(\"QS_university_scores.csv\")\n",
    "ARWU_scores = pd.read_csv(\"ARWU_university_scores.csv\")\n",
    "\n",
    "times_names = times_scores['University Name'].to_list()\n",
    "CWUR_names = CWUR_scores['University Name'].to_list()\n",
    "QS_names = QS_scores['University Name'].to_list()\n",
    "ARWU_names = ARWU_scores['University Name'].to_list()\n",
    "\n",
    "names_list = [times_names, CWUR_names, QS_names, ARWU_names]"
   ]
  },
  {
   "cell_type": "code",
   "execution_count": 6,
   "metadata": {},
   "outputs": [],
   "source": [
    "similarity_indexes = []"
   ]
  },
  {
   "cell_type": "code",
   "execution_count": 7,
   "metadata": {},
   "outputs": [],
   "source": [
    "def check_and_add_match(name_to_find, match, list_name, original_index, target_index, similarity_threshold = 90):\n",
    "    if match[1] > similarity_threshold:\n",
    "        row = {\n",
    "            'original_name': name_to_find, \n",
    "            'matched_name': match[0], \n",
    "            'similarity_score': match[1],\n",
    "            'list_name': list_name,\n",
    "            'original_index': original_index,\n",
    "            'target_index': target_index\n",
    "        }\n",
    "        similarity_indexes.append(row)\n",
    "        \n",
    "def process_list(original_name_list, target_name_list, list_name):\n",
    "    for index, name_to_find in enumerate(original_name_list):\n",
    "        match = process.extractOne(name_to_find, target_name_list)\n",
    "        match_index = target_name_list.index(match[0])\n",
    "        check_and_add_match(name_to_find, match, list_name, index, match_index)"
   ]
  },
  {
   "cell_type": "code",
   "execution_count": 8,
   "metadata": {},
   "outputs": [
    {
     "name": "stdout",
     "output_type": "stream",
     "text": [
      "Processing CWUR names\n",
      "Processing QR names\n",
      "Processing ARWU names\n"
     ]
    }
   ],
   "source": [
    "print(\"Processing CWUR names\")\n",
    "process_list(times_names, CWUR_names, 'CWUR')\n",
    "print(\"Processing QS names\")\n",
    "process_list(times_names, QS_names, 'QS')\n",
    "print(\"Processing ARWU names\")\n",
    "process_list(times_names, ARWU_names, 'ARWU')"
   ]
  },
  {
   "cell_type": "code",
   "execution_count": 20,
   "metadata": {},
   "outputs": [],
   "source": [
    "df = pd.DataFrame(similarity_indexes)\n",
    "df.to_csv(\"similarity_index.csv\", index=False)"
   ]
  },
  {
   "cell_type": "code",
   "execution_count": 40,
   "metadata": {},
   "outputs": [],
   "source": [
    "df = df[df['similarity_score'] >= 95]"
   ]
  },
  {
   "cell_type": "code",
   "execution_count": 63,
   "metadata": {},
   "outputs": [],
   "source": [
    "grouped_df = pd.DataFrame(columns=['University Name', 'original_index', 'Times Ranking', 'CWUR Ranking', 'QS Ranking', 'ARWU Ranking'])"
   ]
  },
  {
   "cell_type": "code",
   "execution_count": 64,
   "metadata": {},
   "outputs": [],
   "source": [
    "def get_ranking(list_name, index):\n",
    "    if list_name == 'Times':\n",
    "        score = times_scores.iloc[index][1]\n",
    "    elif list_name == 'CWUR':\n",
    "        score = CWUR_scores.iloc[index][1]\n",
    "    elif list_name == 'QS':\n",
    "        score = QS_scores.iloc[index][1]\n",
    "    elif list_name == 'ARWU':\n",
    "        score = ARWU_scores.iloc[index][1]\n",
    "    else:\n",
    "        print(\"List not recognized\")\n",
    "    return score\n",
    "\n",
    "for index, row in df.iterrows():\n",
    "    original_name = row['original_name']\n",
    "    list_name = row['list_name']\n",
    "    original_index = row['original_index']\n",
    "    target_index = row['target_index']\n",
    "    \n",
    "    original_ranking = get_ranking('Times', original_index)\n",
    "    ranking = get_ranking(list_name, target_index)\n",
    "\n",
    "    if original_index in grouped_df['original_index']:\n",
    "        grouped_df.loc[grouped_df['original_index'] == original_index, f'{list_name} Ranking'] = ranking\n",
    "    else:\n",
    "        if list_name == 'CWUR':\n",
    "            new_row = [original_name, original_index, original_ranking, ranking, np.nan, np.nan]\n",
    "        elif list_name == 'QS':\n",
    "            new_row = [original_name, original_index, original_ranking, np.nan, ranking, np.nan]\n",
    "        elif list_name == 'ARWU':\n",
    "            new_row = [original_name, original_index, original_ranking, np.nan, np.nan, ranking]\n",
    "        grouped_df.loc[len(grouped_df)] = new_row"
   ]
  },
  {
   "cell_type": "code",
   "execution_count": 66,
   "metadata": {},
   "outputs": [
    {
     "data": {
      "text/html": [
       "<div>\n",
       "<style scoped>\n",
       "    .dataframe tbody tr th:only-of-type {\n",
       "        vertical-align: middle;\n",
       "    }\n",
       "\n",
       "    .dataframe tbody tr th {\n",
       "        vertical-align: top;\n",
       "    }\n",
       "\n",
       "    .dataframe thead th {\n",
       "        text-align: right;\n",
       "    }\n",
       "</style>\n",
       "<table border=\"1\" class=\"dataframe\">\n",
       "  <thead>\n",
       "    <tr style=\"text-align: right;\">\n",
       "      <th></th>\n",
       "      <th>University Name</th>\n",
       "      <th>original_index</th>\n",
       "      <th>Times Ranking</th>\n",
       "      <th>CWUR Ranking</th>\n",
       "      <th>QS Ranking</th>\n",
       "      <th>ARWU Ranking</th>\n",
       "    </tr>\n",
       "  </thead>\n",
       "  <tbody>\n",
       "    <tr>\n",
       "      <th>0</th>\n",
       "      <td>University of Oxford</td>\n",
       "      <td>0</td>\n",
       "      <td>1</td>\n",
       "      <td>5.0</td>\n",
       "      <td>4</td>\n",
       "      <td>7</td>\n",
       "    </tr>\n",
       "    <tr>\n",
       "      <th>1</th>\n",
       "      <td>Harvard University</td>\n",
       "      <td>1</td>\n",
       "      <td>2</td>\n",
       "      <td>1.0</td>\n",
       "      <td>5</td>\n",
       "      <td>1</td>\n",
       "    </tr>\n",
       "    <tr>\n",
       "      <th>2</th>\n",
       "      <td>University of Cambridge</td>\n",
       "      <td>2</td>\n",
       "      <td>3</td>\n",
       "      <td>4.0</td>\n",
       "      <td>2</td>\n",
       "      <td>4</td>\n",
       "    </tr>\n",
       "    <tr>\n",
       "      <th>3</th>\n",
       "      <td>Stanford University</td>\n",
       "      <td>3</td>\n",
       "      <td>3</td>\n",
       "      <td>3.0</td>\n",
       "      <td>3</td>\n",
       "      <td>2</td>\n",
       "    </tr>\n",
       "    <tr>\n",
       "      <th>4</th>\n",
       "      <td>Massachusetts Institute of Technology</td>\n",
       "      <td>4</td>\n",
       "      <td>5</td>\n",
       "      <td>2.0</td>\n",
       "      <td>1</td>\n",
       "      <td>3</td>\n",
       "    </tr>\n",
       "    <tr>\n",
       "      <th>...</th>\n",
       "      <td>...</td>\n",
       "      <td>...</td>\n",
       "      <td>...</td>\n",
       "      <td>...</td>\n",
       "      <td>...</td>\n",
       "      <td>...</td>\n",
       "    </tr>\n",
       "    <tr>\n",
       "      <th>1469</th>\n",
       "      <td>Nara Institute of Science and Technology</td>\n",
       "      <td>2033</td>\n",
       "      <td>Reporter</td>\n",
       "      <td>NaN</td>\n",
       "      <td>NaN</td>\n",
       "      <td>901-1000</td>\n",
       "    </tr>\n",
       "    <tr>\n",
       "      <th>1470</th>\n",
       "      <td>University of Science and Technology of Southe...</td>\n",
       "      <td>2119</td>\n",
       "      <td>Reporter</td>\n",
       "      <td>NaN</td>\n",
       "      <td>NaN</td>\n",
       "      <td>151-200</td>\n",
       "    </tr>\n",
       "    <tr>\n",
       "      <th>1471</th>\n",
       "      <td>Sikkim Manipal University</td>\n",
       "      <td>2128</td>\n",
       "      <td>Reporter</td>\n",
       "      <td>NaN</td>\n",
       "      <td>NaN</td>\n",
       "      <td>901-1000</td>\n",
       "    </tr>\n",
       "    <tr>\n",
       "      <th>1472</th>\n",
       "      <td>Western Caspian University</td>\n",
       "      <td>2215</td>\n",
       "      <td>Reporter</td>\n",
       "      <td>NaN</td>\n",
       "      <td>NaN</td>\n",
       "      <td>201-300</td>\n",
       "    </tr>\n",
       "    <tr>\n",
       "      <th>1473</th>\n",
       "      <td>West Virginia University</td>\n",
       "      <td>2218</td>\n",
       "      <td>Reporter</td>\n",
       "      <td>NaN</td>\n",
       "      <td>NaN</td>\n",
       "      <td>401-500</td>\n",
       "    </tr>\n",
       "  </tbody>\n",
       "</table>\n",
       "<p>1474 rows × 6 columns</p>\n",
       "</div>"
      ],
      "text/plain": [
       "                                        University Name  original_index   \n",
       "0                                  University of Oxford               0  \\\n",
       "1                                    Harvard University               1   \n",
       "2                               University of Cambridge               2   \n",
       "3                                   Stanford University               3   \n",
       "4                 Massachusetts Institute of Technology               4   \n",
       "...                                                 ...             ...   \n",
       "1469           Nara Institute of Science and Technology            2033   \n",
       "1470  University of Science and Technology of Southe...            2119   \n",
       "1471                          Sikkim Manipal University            2128   \n",
       "1472                         Western Caspian University            2215   \n",
       "1473                           West Virginia University            2218   \n",
       "\n",
       "     Times Ranking  CWUR Ranking QS Ranking ARWU Ranking  \n",
       "0                1           5.0          4            7  \n",
       "1                2           1.0          5            1  \n",
       "2                3           4.0          2            4  \n",
       "3                3           3.0          3            2  \n",
       "4                5           2.0          1            3  \n",
       "...            ...           ...        ...          ...  \n",
       "1469      Reporter           NaN        NaN     901-1000  \n",
       "1470      Reporter           NaN        NaN      151-200  \n",
       "1471      Reporter           NaN        NaN     901-1000  \n",
       "1472      Reporter           NaN        NaN      201-300  \n",
       "1473      Reporter           NaN        NaN      401-500  \n",
       "\n",
       "[1474 rows x 6 columns]"
      ]
     },
     "execution_count": 66,
     "metadata": {},
     "output_type": "execute_result"
    }
   ],
   "source": [
    "grouped_df"
   ]
  },
  {
   "cell_type": "code",
   "execution_count": null,
   "metadata": {},
   "outputs": [],
   "source": []
  }
 ],
 "metadata": {
  "kernelspec": {
   "display_name": "scraper",
   "language": "python",
   "name": "venv"
  },
  "language_info": {
   "codemirror_mode": {
    "name": "ipython",
    "version": 3
   },
   "file_extension": ".py",
   "mimetype": "text/x-python",
   "name": "python",
   "nbconvert_exporter": "python",
   "pygments_lexer": "ipython3",
   "version": "3.8.10"
  }
 },
 "nbformat": 4,
 "nbformat_minor": 4
}
